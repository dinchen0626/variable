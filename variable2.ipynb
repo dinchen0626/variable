{
  "nbformat": 4,
  "nbformat_minor": 0,
  "metadata": {
    "colab": {
      "provenance": [],
      "authorship_tag": "ABX9TyN0wPPySoQVlZIi6rR+w3qX",
      "include_colab_link": true
    },
    "kernelspec": {
      "name": "python3",
      "display_name": "Python 3"
    },
    "language_info": {
      "name": "python"
    }
  },
  "cells": [
    {
      "cell_type": "markdown",
      "metadata": {
        "id": "view-in-github",
        "colab_type": "text"
      },
      "source": [
        "<a href=\"https://colab.research.google.com/github/dinchen0626/variable/blob/main/variable2.ipynb\" target=\"_parent\"><img src=\"https://colab.research.google.com/assets/colab-badge.svg\" alt=\"Open In Colab\"/></a>"
      ]
    },
    {
      "cell_type": "code",
      "execution_count": 14,
      "metadata": {
        "id": "1wXPP4WP5keG"
      },
      "outputs": [],
      "source": [
        "e04 = [2,4,6,8,10]\n"
      ]
    },
    {
      "cell_type": "code",
      "source": [
        "type(e04)"
      ],
      "metadata": {
        "colab": {
          "base_uri": "https://localhost:8080/"
        },
        "id": "r_IgOdrl-nfw",
        "outputId": "1b1f0890-2610-43fe-cd6a-6700d4755cb1"
      },
      "execution_count": 15,
      "outputs": [
        {
          "output_type": "execute_result",
          "data": {
            "text/plain": [
              "list"
            ]
          },
          "metadata": {},
          "execution_count": 15
        }
      ]
    },
    {
      "cell_type": "code",
      "source": [],
      "metadata": {
        "id": "HR85jKDt-2BZ"
      },
      "execution_count": null,
      "outputs": []
    }
  ]
}